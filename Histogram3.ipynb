{
  "nbformat": 4,
  "nbformat_minor": 0,
  "metadata": {
    "colab": {
      "name": "Histogram3.ipynb",
      "provenance": [],
      "collapsed_sections": [],
      "toc_visible": true
    },
    "kernelspec": {
      "name": "python3",
      "display_name": "Python 3"
    }
  },
  "cells": [
    {
      "cell_type": "code",
      "metadata": {
        "colab": {
          "base_uri": "https://localhost:8080/",
          "height": 735
        },
        "id": "MHDeMmAmpBFq",
        "outputId": "727a031f-f11c-41f5-8608-ac43f32bd801"
      },
      "source": [
        "import warnings\r\n",
        "warnings.filterwarnings('ignore')\r\n",
        "\r\n",
        "import pandas as pd\r\n",
        "import numpy as np\r\n",
        "import matplotlib.pyplot as plt\r\n",
        "plt.style.use('ggplot')\r\n",
        "import seaborn as sns\r\n",
        "\r\n",
        "df = pd.read_csv('algebradata.csv')\r\n",
        "\r\n",
        "print(\"\\n*** Structure ***\")\r\n",
        "print(df.info())\r\n",
        "\r\n",
        "\r\n",
        "lNSigTerms = ['id', 'name', 'desc']\r\n",
        "lsRet = []\r\n",
        "vColList = df.columns.to_list()\r\n",
        "for vCol in vColList:\r\n",
        "    bIsNotSig = False\r\n",
        "    for vTerm in lNSigTerms:\r\n",
        "        if vCol.lower().startswith(vTerm) or vCol.lower().endswith(vTerm): \r\n",
        "            bIsNotSig = True\r\n",
        "    if bIsNotSig == False:\r\n",
        "        lsRet.append(vCol) \r\n",
        "# store for future use\r\n",
        "lSigCols = lsRet       \r\n",
        "dfSigCols = df[lSigCols]\r\n",
        "print(\"\\n*** Significant Columns ***\")\r\n",
        "for vCol in lSigCols:\r\n",
        "    print(vCol)\r\n",
        "\r\n",
        "\r\n",
        "\r\n",
        "print(\"\\n*** Histogram Plot ***\")\r\n",
        "for vCol in lSigCols:\r\n",
        "    if (df[vCol].dtypes == 'object'): #and df[vCol].dtypes != 'float64' ):\r\n",
        "        continue\r\n",
        "    #print(\"Col\",vCol)\r\n",
        "    colValues = df[vCol].values\r\n",
        "    plt.figure(figsize=(10,5))\r\n",
        "    sns.distplot(colValues, bins=7, kde=False, color='b')\r\n",
        "    plt.title('Column %s' % vCol)\r\n",
        "    plt.ylabel(vCol)\r\n",
        "    plt.xlabel('Bins')\r\n",
        "    plt.show()\r\n"
      ],
      "execution_count": 5,
      "outputs": [
        {
          "output_type": "stream",
          "text": [
            "\n",
            "*** Structure ***\n",
            "<class 'pandas.core.frame.DataFrame'>\n",
            "RangeIndex: 999 entries, 0 to 998\n",
            "Data columns (total 5 columns):\n",
            " #   Column          Non-Null Count  Dtype \n",
            "---  ------          --------------  ----- \n",
            " 0   Fname           999 non-null    object\n",
            " 1   Lname           999 non-null    object\n",
            " 2   Gender          999 non-null    object\n",
            " 3   Grade           999 non-null    object\n",
            " 4   Hours of Study  999 non-null    int64 \n",
            "dtypes: int64(1), object(4)\n",
            "memory usage: 39.1+ KB\n",
            "None\n",
            "\n",
            "*** Significant Columns ***\n",
            "Gender\n",
            "Grade\n",
            "Hours of Study\n",
            "\n",
            "*** Histogram Plot ***\n"
          ],
          "name": "stdout"
        },
        {
          "output_type": "display_data",
          "data": {
            "image/png": "[encoded data removed]",
            "text/plain": [
              "<Figure size 720x360 with 1 Axes>"
            ]
          },
          "metadata": {
            "tags": []
          }
        }
      ]
    },
    {
      "cell_type": "markdown",
      "metadata": {
        "id": "4dldpPKNpKXd"
      },
      "source": [
        "# New Section"
      ]
    }
  ]
}